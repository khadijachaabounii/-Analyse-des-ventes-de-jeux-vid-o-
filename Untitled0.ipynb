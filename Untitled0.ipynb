{
  "nbformat": 4,
  "nbformat_minor": 0,
  "metadata": {
    "colab": {
      "provenance": [],
      "authorship_tag": "ABX9TyNoQnkvKcTpcY/w7JFIbySj",
      "include_colab_link": true
    },
    "kernelspec": {
      "name": "python3",
      "display_name": "Python 3"
    },
    "language_info": {
      "name": "python"
    }
  },
  "cells": [
    {
      "cell_type": "markdown",
      "metadata": {
        "id": "view-in-github",
        "colab_type": "text"
      },
      "source": [
        "<a href=\"https://colab.research.google.com/github/khadijachaabounii/-Analyse-des-ventes-de-jeux-vid-o-/blob/main/Untitled0.ipynb\" target=\"_parent\"><img src=\"https://colab.research.google.com/assets/colab-badge.svg\" alt=\"Open In Colab\"/></a>"
      ]
    },
    {
      "cell_type": "code",
      "execution_count": 1,
      "metadata": {
        "colab": {
          "base_uri": "https://localhost:8080/"
        },
        "id": "BvYMDYZbpBbX",
        "outputId": "5ec5405f-ebb2-4a4e-ac94-34609db5d309"
      },
      "outputs": [
        {
          "output_type": "stream",
          "name": "stdout",
          "text": [
            "Requirement already satisfied: pyspark in /usr/local/lib/python3.10/dist-packages (3.5.3)\n",
            "Requirement already satisfied: py4j==0.10.9.7 in /usr/local/lib/python3.10/dist-packages (from pyspark) (0.10.9.7)\n"
          ]
        }
      ],
      "source": [
        "!apt-get install openjdk-11-jdk-headless -qq > /dev/null\n",
        "!pip install pyspark"
      ]
    },
    {
      "cell_type": "code",
      "source": [
        "import pyspark\n",
        "print(pyspark.__version__)"
      ],
      "metadata": {
        "colab": {
          "base_uri": "https://localhost:8080/"
        },
        "id": "yTB05n4KpFvp",
        "outputId": "b46b5158-f6c8-42a6-f173-5fe325d46146"
      },
      "execution_count": 2,
      "outputs": [
        {
          "output_type": "stream",
          "name": "stdout",
          "text": [
            "3.5.3\n"
          ]
        }
      ]
    },
    {
      "cell_type": "code",
      "source": [
        "from google.colab import files\n",
        "uploaded = files.upload()"
      ],
      "metadata": {
        "colab": {
          "base_uri": "https://localhost:8080/",
          "height": 73
        },
        "id": "bQ5NbkPnpH6K",
        "outputId": "87ca7ba0-22f1-4b14-92ec-e425c603ae5d"
      },
      "execution_count": 3,
      "outputs": [
        {
          "output_type": "display_data",
          "data": {
            "text/plain": [
              "<IPython.core.display.HTML object>"
            ],
            "text/html": [
              "\n",
              "     <input type=\"file\" id=\"files-6e5922f2-d6a8-477a-bec3-cc7808ab980e\" name=\"files[]\" multiple disabled\n",
              "        style=\"border:none\" />\n",
              "     <output id=\"result-6e5922f2-d6a8-477a-bec3-cc7808ab980e\">\n",
              "      Upload widget is only available when the cell has been executed in the\n",
              "      current browser session. Please rerun this cell to enable.\n",
              "      </output>\n",
              "      <script>// Copyright 2017 Google LLC\n",
              "//\n",
              "// Licensed under the Apache License, Version 2.0 (the \"License\");\n",
              "// you may not use this file except in compliance with the License.\n",
              "// You may obtain a copy of the License at\n",
              "//\n",
              "//      http://www.apache.org/licenses/LICENSE-2.0\n",
              "//\n",
              "// Unless required by applicable law or agreed to in writing, software\n",
              "// distributed under the License is distributed on an \"AS IS\" BASIS,\n",
              "// WITHOUT WARRANTIES OR CONDITIONS OF ANY KIND, either express or implied.\n",
              "// See the License for the specific language governing permissions and\n",
              "// limitations under the License.\n",
              "\n",
              "/**\n",
              " * @fileoverview Helpers for google.colab Python module.\n",
              " */\n",
              "(function(scope) {\n",
              "function span(text, styleAttributes = {}) {\n",
              "  const element = document.createElement('span');\n",
              "  element.textContent = text;\n",
              "  for (const key of Object.keys(styleAttributes)) {\n",
              "    element.style[key] = styleAttributes[key];\n",
              "  }\n",
              "  return element;\n",
              "}\n",
              "\n",
              "// Max number of bytes which will be uploaded at a time.\n",
              "const MAX_PAYLOAD_SIZE = 100 * 1024;\n",
              "\n",
              "function _uploadFiles(inputId, outputId) {\n",
              "  const steps = uploadFilesStep(inputId, outputId);\n",
              "  const outputElement = document.getElementById(outputId);\n",
              "  // Cache steps on the outputElement to make it available for the next call\n",
              "  // to uploadFilesContinue from Python.\n",
              "  outputElement.steps = steps;\n",
              "\n",
              "  return _uploadFilesContinue(outputId);\n",
              "}\n",
              "\n",
              "// This is roughly an async generator (not supported in the browser yet),\n",
              "// where there are multiple asynchronous steps and the Python side is going\n",
              "// to poll for completion of each step.\n",
              "// This uses a Promise to block the python side on completion of each step,\n",
              "// then passes the result of the previous step as the input to the next step.\n",
              "function _uploadFilesContinue(outputId) {\n",
              "  const outputElement = document.getElementById(outputId);\n",
              "  const steps = outputElement.steps;\n",
              "\n",
              "  const next = steps.next(outputElement.lastPromiseValue);\n",
              "  return Promise.resolve(next.value.promise).then((value) => {\n",
              "    // Cache the last promise value to make it available to the next\n",
              "    // step of the generator.\n",
              "    outputElement.lastPromiseValue = value;\n",
              "    return next.value.response;\n",
              "  });\n",
              "}\n",
              "\n",
              "/**\n",
              " * Generator function which is called between each async step of the upload\n",
              " * process.\n",
              " * @param {string} inputId Element ID of the input file picker element.\n",
              " * @param {string} outputId Element ID of the output display.\n",
              " * @return {!Iterable<!Object>} Iterable of next steps.\n",
              " */\n",
              "function* uploadFilesStep(inputId, outputId) {\n",
              "  const inputElement = document.getElementById(inputId);\n",
              "  inputElement.disabled = false;\n",
              "\n",
              "  const outputElement = document.getElementById(outputId);\n",
              "  outputElement.innerHTML = '';\n",
              "\n",
              "  const pickedPromise = new Promise((resolve) => {\n",
              "    inputElement.addEventListener('change', (e) => {\n",
              "      resolve(e.target.files);\n",
              "    });\n",
              "  });\n",
              "\n",
              "  const cancel = document.createElement('button');\n",
              "  inputElement.parentElement.appendChild(cancel);\n",
              "  cancel.textContent = 'Cancel upload';\n",
              "  const cancelPromise = new Promise((resolve) => {\n",
              "    cancel.onclick = () => {\n",
              "      resolve(null);\n",
              "    };\n",
              "  });\n",
              "\n",
              "  // Wait for the user to pick the files.\n",
              "  const files = yield {\n",
              "    promise: Promise.race([pickedPromise, cancelPromise]),\n",
              "    response: {\n",
              "      action: 'starting',\n",
              "    }\n",
              "  };\n",
              "\n",
              "  cancel.remove();\n",
              "\n",
              "  // Disable the input element since further picks are not allowed.\n",
              "  inputElement.disabled = true;\n",
              "\n",
              "  if (!files) {\n",
              "    return {\n",
              "      response: {\n",
              "        action: 'complete',\n",
              "      }\n",
              "    };\n",
              "  }\n",
              "\n",
              "  for (const file of files) {\n",
              "    const li = document.createElement('li');\n",
              "    li.append(span(file.name, {fontWeight: 'bold'}));\n",
              "    li.append(span(\n",
              "        `(${file.type || 'n/a'}) - ${file.size} bytes, ` +\n",
              "        `last modified: ${\n",
              "            file.lastModifiedDate ? file.lastModifiedDate.toLocaleDateString() :\n",
              "                                    'n/a'} - `));\n",
              "    const percent = span('0% done');\n",
              "    li.appendChild(percent);\n",
              "\n",
              "    outputElement.appendChild(li);\n",
              "\n",
              "    const fileDataPromise = new Promise((resolve) => {\n",
              "      const reader = new FileReader();\n",
              "      reader.onload = (e) => {\n",
              "        resolve(e.target.result);\n",
              "      };\n",
              "      reader.readAsArrayBuffer(file);\n",
              "    });\n",
              "    // Wait for the data to be ready.\n",
              "    let fileData = yield {\n",
              "      promise: fileDataPromise,\n",
              "      response: {\n",
              "        action: 'continue',\n",
              "      }\n",
              "    };\n",
              "\n",
              "    // Use a chunked sending to avoid message size limits. See b/62115660.\n",
              "    let position = 0;\n",
              "    do {\n",
              "      const length = Math.min(fileData.byteLength - position, MAX_PAYLOAD_SIZE);\n",
              "      const chunk = new Uint8Array(fileData, position, length);\n",
              "      position += length;\n",
              "\n",
              "      const base64 = btoa(String.fromCharCode.apply(null, chunk));\n",
              "      yield {\n",
              "        response: {\n",
              "          action: 'append',\n",
              "          file: file.name,\n",
              "          data: base64,\n",
              "        },\n",
              "      };\n",
              "\n",
              "      let percentDone = fileData.byteLength === 0 ?\n",
              "          100 :\n",
              "          Math.round((position / fileData.byteLength) * 100);\n",
              "      percent.textContent = `${percentDone}% done`;\n",
              "\n",
              "    } while (position < fileData.byteLength);\n",
              "  }\n",
              "\n",
              "  // All done.\n",
              "  yield {\n",
              "    response: {\n",
              "      action: 'complete',\n",
              "    }\n",
              "  };\n",
              "}\n",
              "\n",
              "scope.google = scope.google || {};\n",
              "scope.google.colab = scope.google.colab || {};\n",
              "scope.google.colab._files = {\n",
              "  _uploadFiles,\n",
              "  _uploadFilesContinue,\n",
              "};\n",
              "})(self);\n",
              "</script> "
            ]
          },
          "metadata": {}
        },
        {
          "output_type": "stream",
          "name": "stdout",
          "text": [
            "Saving vgsales.csv to vgsales.csv\n"
          ]
        }
      ]
    },
    {
      "cell_type": "code",
      "source": [
        "for filename in uploaded.keys():\n",
        "    print(f\"Fichier téléchargé : {filename}\")\n"
      ],
      "metadata": {
        "colab": {
          "base_uri": "https://localhost:8080/"
        },
        "id": "aHKsIWKXpUNX",
        "outputId": "53293f4a-d5b9-42ed-b559-5c70ea3c7055"
      },
      "execution_count": 4,
      "outputs": [
        {
          "output_type": "stream",
          "name": "stdout",
          "text": [
            "Fichier téléchargé : vgsales.csv\n"
          ]
        }
      ]
    },
    {
      "cell_type": "code",
      "source": [
        "import os\n",
        "print(os.listdir(\"/content\"))\n"
      ],
      "metadata": {
        "colab": {
          "base_uri": "https://localhost:8080/"
        },
        "id": "2-c173M6paHA",
        "outputId": "e3cc1bf4-7d54-4c38-c08d-ac80688c272a"
      },
      "execution_count": 5,
      "outputs": [
        {
          "output_type": "stream",
          "name": "stdout",
          "text": [
            "['.config', 'vgsales.csv', 'sample_data']\n"
          ]
        }
      ]
    },
    {
      "cell_type": "code",
      "source": [
        "csv_file = \"/content/vgsales.csv\"\n",
        "# Spécifier le chemin du fichier CSV"
      ],
      "metadata": {
        "id": "khc4NJqbpfK0"
      },
      "execution_count": 6,
      "outputs": []
    },
    {
      "cell_type": "code",
      "source": [
        "from pyspark.sql import SparkSession\n",
        "\n",
        "# Initialiser SparkSession\n",
        "spark = SparkSession.builder.appName(\"analyse de données\").getOrCreate()\n",
        "\n",
        "\n",
        "\n",
        "# Lire le fichier CSV\n",
        "df = spark.read.csv(csv_file, header=True, inferSchema=True)\n",
        "\n",
        "# Afficher les premières lignes\n",
        "df.show(5)\n",
        "\n",
        "# Afficher le schéma\n",
        "df.printSchema()"
      ],
      "metadata": {
        "colab": {
          "base_uri": "https://localhost:8080/"
        },
        "id": "hViDbKFbpls-",
        "outputId": "d88c8284-36b3-491d-f94e-69f1d53ce3f3"
      },
      "execution_count": 7,
      "outputs": [
        {
          "output_type": "stream",
          "name": "stdout",
          "text": [
            "+----+--------------------+--------+----+------------+---------+--------+--------+--------+-----------+------------+\n",
            "|Rank|                Name|Platform|Year|       Genre|Publisher|NA_Sales|EU_Sales|JP_Sales|Other_Sales|Global_Sales|\n",
            "+----+--------------------+--------+----+------------+---------+--------+--------+--------+-----------+------------+\n",
            "|   1|          Wii Sports|     Wii|2006|      Sports| Nintendo|   41.49|   29.02|    3.77|       8.46|       82.74|\n",
            "|   2|   Super Mario Bros.|     NES|1985|    Platform| Nintendo|   29.08|    3.58|    6.81|       0.77|       40.24|\n",
            "|   3|      Mario Kart Wii|     Wii|2008|      Racing| Nintendo|   15.85|   12.88|    3.79|       3.31|       35.82|\n",
            "|   4|   Wii Sports Resort|     Wii|2009|      Sports| Nintendo|   15.75|   11.01|    3.28|       2.96|        33.0|\n",
            "|   5|Pokemon Red/Pokem...|      GB|1996|Role-Playing| Nintendo|   11.27|    8.89|   10.22|        1.0|       31.37|\n",
            "+----+--------------------+--------+----+------------+---------+--------+--------+--------+-----------+------------+\n",
            "only showing top 5 rows\n",
            "\n",
            "root\n",
            " |-- Rank: integer (nullable = true)\n",
            " |-- Name: string (nullable = true)\n",
            " |-- Platform: string (nullable = true)\n",
            " |-- Year: string (nullable = true)\n",
            " |-- Genre: string (nullable = true)\n",
            " |-- Publisher: string (nullable = true)\n",
            " |-- NA_Sales: double (nullable = true)\n",
            " |-- EU_Sales: double (nullable = true)\n",
            " |-- JP_Sales: double (nullable = true)\n",
            " |-- Other_Sales: double (nullable = true)\n",
            " |-- Global_Sales: double (nullable = true)\n",
            "\n"
          ]
        }
      ]
    },
    {
      "cell_type": "code",
      "source": [
        "print(f\"Nombre de lignes : {df.count()}\")\n"
      ],
      "metadata": {
        "colab": {
          "base_uri": "https://localhost:8080/"
        },
        "id": "8tnNTBbmqHbE",
        "outputId": "33cadae0-166c-4f3c-f4f6-51dbf6510497"
      },
      "execution_count": 8,
      "outputs": [
        {
          "output_type": "stream",
          "name": "stdout",
          "text": [
            "Nombre de lignes : 16598\n"
          ]
        }
      ]
    },
    {
      "cell_type": "code",
      "source": [
        "df_filtered = df.filter(df['Global_Sales'] > 30)\n",
        "\n",
        "df_filtered.show()"
      ],
      "metadata": {
        "colab": {
          "base_uri": "https://localhost:8080/"
        },
        "id": "iYlncQfyqh_f",
        "outputId": "b6f28b8d-0072-49b5-ce02-0b84c5b69069"
      },
      "execution_count": 24,
      "outputs": [
        {
          "output_type": "stream",
          "name": "stdout",
          "text": [
            "+----+--------------------+--------+----+------------+---------+--------+--------+--------+-----------+------------+\n",
            "|Rank|                Name|Platform|Year|       Genre|Publisher|NA_Sales|EU_Sales|JP_Sales|Other_Sales|Global_Sales|\n",
            "+----+--------------------+--------+----+------------+---------+--------+--------+--------+-----------+------------+\n",
            "|   1|          Wii Sports|     Wii|2006|      Sports| Nintendo|   41.49|   29.02|    3.77|       8.46|       82.74|\n",
            "|   2|   Super Mario Bros.|     NES|1985|    Platform| Nintendo|   29.08|    3.58|    6.81|       0.77|       40.24|\n",
            "|   3|      Mario Kart Wii|     Wii|2008|      Racing| Nintendo|   15.85|   12.88|    3.79|       3.31|       35.82|\n",
            "|   4|   Wii Sports Resort|     Wii|2009|      Sports| Nintendo|   15.75|   11.01|    3.28|       2.96|        33.0|\n",
            "|   5|Pokemon Red/Pokem...|      GB|1996|Role-Playing| Nintendo|   11.27|    8.89|   10.22|        1.0|       31.37|\n",
            "|   6|              Tetris|      GB|1989|      Puzzle| Nintendo|    23.2|    2.26|    4.22|       0.58|       30.26|\n",
            "|   7|New Super Mario B...|      DS|2006|    Platform| Nintendo|   11.38|    9.23|     6.5|        2.9|       30.01|\n",
            "+----+--------------------+--------+----+------------+---------+--------+--------+--------+-----------+------------+\n",
            "\n"
          ]
        }
      ]
    },
    {
      "cell_type": "code",
      "source": [
        "from pyspark.sql import functions as F\n",
        "\n",
        "# Filtrer les colonnes où Global_Sales > 30\n",
        "df_filtered = df.filter(F.col(\"Global_Sales\") > 30).select(\"Name\", \"Year\", \"Genre\",\"Global_Sales\")\n",
        "\n",
        "# Afficher les résultats\n",
        "df_filtered.show(5)\n"
      ],
      "metadata": {
        "colab": {
          "base_uri": "https://localhost:8080/"
        },
        "id": "kgi2-c6nrmQi",
        "outputId": "eb5bd15d-5dc6-405e-ddd0-f162df8e5168"
      },
      "execution_count": 11,
      "outputs": [
        {
          "output_type": "stream",
          "name": "stdout",
          "text": [
            "+--------------------+----+------------+------------+\n",
            "|                Name|Year|       Genre|Global_Sales|\n",
            "+--------------------+----+------------+------------+\n",
            "|          Wii Sports|2006|      Sports|       82.74|\n",
            "|   Super Mario Bros.|1985|    Platform|       40.24|\n",
            "|      Mario Kart Wii|2008|      Racing|       35.82|\n",
            "|   Wii Sports Resort|2009|      Sports|        33.0|\n",
            "|Pokemon Red/Pokem...|1996|Role-Playing|       31.37|\n",
            "+--------------------+----+------------+------------+\n",
            "only showing top 5 rows\n",
            "\n"
          ]
        }
      ]
    },
    {
      "cell_type": "code",
      "source": [
        "from pyspark.sql import functions as F\n",
        "from pyspark.sql.window import Window\n",
        "\n",
        "# Filtrer les données pour les années valides et les ventes globales non nulles\n",
        "df_filtré = df.filter(F.col(\"Year\").cast(\"int\").isNotNull() & F.col(\"Global_Sales\").isNotNull())\n",
        "\n",
        "# Définir une fenêtre partitionnée par année et triée par les ventes globales de manière décroissante\n",
        "fenetre_année = Window.partitionBy(\"Year\").orderBy(F.col(\"Global_Sales\").desc())\n",
        "\n",
        "# Ajouter une colonne \"rang\" qui sera 1 pour le jeu avec les ventes maximales pour chaque année\n",
        "df_avec_rang = df_filtré.withColumn(\"rang\", F.row_number().over(fenetre_année))\n",
        "\n",
        "# Filtrer pour ne garder que le jeu avec le rang 1 (le plus populaire) pour chaque année\n",
        "jeux_populaires = df_avec_rang.filter(F.col(\"rang\") == 1).drop(\"rang\")\n",
        "\n",
        "# Afficher les résultats\n",
        "jeux_populaires.select(\"Year\", \"Name\", \"Global_Sales\", \"Genre\").orderBy(\"Year\").show(20)\n"
      ],
      "metadata": {
        "colab": {
          "base_uri": "https://localhost:8080/"
        },
        "id": "IrlF4DA2vDO6",
        "outputId": "3c13007a-8c2e-45ba-a5f9-32091453cd65"
      },
      "execution_count": 34,
      "outputs": [
        {
          "output_type": "stream",
          "name": "stdout",
          "text": [
            "+----+--------------------+------------+------------+\n",
            "|Year|                Name|Global_Sales|       Genre|\n",
            "+----+--------------------+------------+------------+\n",
            "|1980|           Asteroids|        4.31|     Shooter|\n",
            "|1981|            Pitfall!|         4.5|    Platform|\n",
            "|1982|             Pac-Man|        7.81|      Puzzle|\n",
            "|1983|            Baseball|         3.2|      Sports|\n",
            "|1984|           Duck Hunt|       28.31|     Shooter|\n",
            "|1985|   Super Mario Bros.|       40.24|    Platform|\n",
            "|1986| The Legend of Zelda|        6.51|      Action|\n",
            "|1987|Zelda II: The Adv...|        4.38|   Adventure|\n",
            "|1988| Super Mario Bros. 3|       17.28|    Platform|\n",
            "|1989|              Tetris|       30.26|      Puzzle|\n",
            "|1990|   Super Mario World|       20.61|    Platform|\n",
            "|1991|The Legend of Zel...|        4.61|      Action|\n",
            "|1992|Super Mario Land ...|       11.18|   Adventure|\n",
            "|1993|Super Mario All-S...|       10.55|    Platform|\n",
            "|1994| Donkey Kong Country|         9.3|    Platform|\n",
            "|1995|Donkey Kong Count...|        5.15|    Platform|\n",
            "|1996|Pokemon Red/Pokem...|       31.37|Role-Playing|\n",
            "|1997|        Gran Turismo|       10.95|      Racing|\n",
            "|1998|Pokémon Yellow: S...|       14.64|Role-Playing|\n",
            "|1999|Pokemon Gold/Poke...|        23.1|Role-Playing|\n",
            "+----+--------------------+------------+------------+\n",
            "only showing top 20 rows\n",
            "\n"
          ]
        }
      ]
    },
    {
      "cell_type": "code",
      "source": [
        "from pyspark.sql import functions as F\n",
        "\n",
        "# Filtrer les données pour l'année 1990\n",
        "df_1990 = df.filter(F.col(\"Year\") == 1990)\n",
        "\n",
        "# Regrouper les données par Genre et sommer les ventes globales\n",
        "sales_by_genre_1990 = df_1990.groupBy(\"Genre\").agg(\n",
        "    F.sum(\"Global_Sales\").alias(\"Total_Global_Sales\")  # Somme des ventes globales\n",
        ")\n",
        "\n",
        "# Trier par les ventes globales de manière décroissante\n",
        "sorted_sales_by_genre_1990 = sales_by_genre_1990.orderBy(F.col(\"Total_Global_Sales\").desc())\n",
        "\n",
        "# Collecter les résultats sous forme de liste\n",
        "sales_list_1990 = sorted_sales_by_genre_1990.collect()\n",
        "\n",
        "# Afficher une partie des résultats\n",
        "for row in sales_list_1990[:5]:\n",
        "    print(row)\n",
        "\n",
        "import matplotlib.pyplot as plt\n",
        "\n",
        "# Extraire les genres et les ventes globales pour créer le graphique\n",
        "game_genres_1990 = [row['Genre'] for row in sales_list_1990]\n",
        "total_sales_1990 = [row['Total_Global_Sales'] for row in sales_list_1990]\n",
        "\n",
        "# Créer un diagramme à barres\n",
        "plt.figure(figsize=(12, 6))\n",
        "plt.bar(game_genres_1990, total_sales_1990, color='skyblue')\n",
        "\n",
        "# Ajouter un titre et des labels\n",
        "plt.title('Genres de jeux vidéo les plus populaires en 1990 (par ventes globales)', fontsize=14)\n",
        "plt.xlabel('Genre', fontsize=12)\n",
        "plt.ylabel('Ventes Globales en millions', fontsize=12)\n",
        "\n",
        "# Tourner les labels de l'axe X pour une meilleure lisibilité\n",
        "plt.xticks(rotation=45, ha='right')\n",
        "\n",
        "# Afficher le graphique\n",
        "plt.tight_layout()\n",
        "plt.show()\n"
      ],
      "metadata": {
        "colab": {
          "base_uri": "https://localhost:8080/",
          "height": 694
        },
        "id": "OJ5SviH0cGT_",
        "outputId": "28a57dd3-144e-4db5-e8d3-2ede499f6970"
      },
      "execution_count": 31,
      "outputs": [
        {
          "output_type": "stream",
          "name": "stdout",
          "text": [
            "Row(Genre='Platform', Total_Global_Sales=22.97)\n",
            "Row(Genre='Action', Total_Global_Sales=6.390000000000001)\n",
            "Row(Genre='Racing', Total_Global_Sales=6.26)\n",
            "Row(Genre='Puzzle', Total_Global_Sales=6.0)\n",
            "Row(Genre='Role-Playing', Total_Global_Sales=4.52)\n"
          ]
        },
        {
          "output_type": "display_data",
          "data": {
            "text/plain": [
              "<Figure size 1200x600 with 1 Axes>"
            ],
            "image/png": "[encoded data removed]"
          },
          "metadata": {}
        }
      ]
    },
    {
      "cell_type": "code",
      "source": [
        "from pyspark.sql import functions as F\n",
        "\n",
        "# Filtrer les données pour l'année 2010\n",
        "df_2010 = df.filter(F.col(\"Year\") == 2010)\n",
        "\n",
        "# Regrouper les données par Genre et sommer les ventes globales\n",
        "sales_by_genre_2010 = df_2010.groupBy(\"Genre\").agg(\n",
        "    F.sum(\"Global_Sales\").alias(\"Total_Global_Sales\")\n",
        "    # Somme des ventes globales\n",
        ")\n",
        "\n",
        "# Trier par les ventes globales de manière décroissante\n",
        "sorted_sales_by_genre_2010 = sales_by_genre_2010.orderBy(F.col(\"Total_Global_Sales\").desc())\n",
        "\n",
        "# Collecter les résultats sous forme de liste\n",
        "sales_list_2010 = sorted_sales_by_genre_2010.collect()\n",
        "\n",
        "# Afficher une partie des résultats\n",
        "for row in sales_list_2010[:5]:\n",
        "    print(row)\n",
        "\n",
        "import matplotlib.pyplot as plt\n",
        "\n",
        "# Extraire les genres et les ventes globales pour créer le graphique\n",
        "game_genres_2010 = [row['Genre'] for row in sales_list_2010]\n",
        "total_sales_2010 = [row['Total_Global_Sales'] for row in sales_list_2010]\n",
        "\n",
        "# Créer un diagramme à barres\n",
        "plt.figure(figsize=(12, 6))\n",
        "plt.bar(game_genres_2010, total_sales_2010, color='lightgreen')\n",
        "\n",
        "# Ajouter un titre et des labels\n",
        "plt.title('Genres de jeux vidéo les plus populaires en 2010 (par ventes globales)', fontsize=14)\n",
        "plt.xlabel('Genre', fontsize=12)\n",
        "plt.ylabel('Ventes Globales en millions', fontsize=12)\n",
        "\n",
        "# Tourner les labels de l'axe X pour une meilleure lisibilité\n",
        "plt.xticks(rotation=45, ha='right')\n",
        "\n",
        "# Afficher le graphique\n",
        "plt.tight_layout()\n",
        "plt.show()\n"
      ],
      "metadata": {
        "colab": {
          "base_uri": "https://localhost:8080/",
          "height": 694
        },
        "id": "7n-reIl6cKSb",
        "outputId": "b28b1c9f-53bb-428d-85af-9d6afc158ade"
      },
      "execution_count": 32,
      "outputs": [
        {
          "output_type": "stream",
          "name": "stdout",
          "text": [
            "Row(Genre='Action', Total_Global_Sales=117.63999999999997)\n",
            "Row(Genre='Misc', Total_Global_Sales=96.86000000000001)\n",
            "Row(Genre='Sports', Total_Global_Sales=92.53)\n",
            "Row(Genre='Shooter', Total_Global_Sales=77.40999999999994)\n",
            "Row(Genre='Role-Playing', Total_Global_Sales=70.51999999999997)\n"
          ]
        },
        {
          "output_type": "display_data",
          "data": {
            "text/plain": [
              "<Figure size 1200x600 with 1 Axes>"
            ],
            "image/png": "[encoded data removed]"
          },
          "metadata": {}
        }
      ]
    }
  ]
}