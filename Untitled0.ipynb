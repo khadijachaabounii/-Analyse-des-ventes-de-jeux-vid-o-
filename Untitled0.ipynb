{
  "nbformat": 4,
  "nbformat_minor": 0,
  "metadata": {
    "colab": {
      "provenance": [],
      "authorship_tag": "ABX9TyMKsb/SNuj7VkzqS2ElEIMh",
      "include_colab_link": true
    },
    "kernelspec": {
      "name": "python3",
      "display_name": "Python 3"
    },
    "language_info": {
      "name": "python"
    }
  },
  "cells": [
    {
      "cell_type": "markdown",
      "metadata": {
        "id": "view-in-github",
        "colab_type": "text"
      },
      "source": [
        "<a href=\"https://colab.research.google.com/github/khadijachaabounii/-Analyse-des-ventes-de-jeux-vid-o-/blob/main/Untitled0.ipynb\" target=\"_parent\"><img src=\"https://colab.research.google.com/assets/colab-badge.svg\" alt=\"Open In Colab\"/></a>"
      ]
    },
    {
      "cell_type": "code",
      "execution_count": null,
      "metadata": {
        "colab": {
          "base_uri": "https://localhost:8080/"
        },
        "id": "BvYMDYZbpBbX",
        "outputId": "4495d0cc-f9e9-432a-9f71-60ca3935f4ea"
      },
      "outputs": [
        {
          "output_type": "stream",
          "name": "stdout",
          "text": [
            "Requirement already satisfied: pyspark in /usr/local/lib/python3.10/dist-packages (3.5.3)\n",
            "Requirement already satisfied: py4j==0.10.9.7 in /usr/local/lib/python3.10/dist-packages (from pyspark) (0.10.9.7)\n"
          ]
        }
      ],
      "source": [
        "!apt-get install openjdk-11-jdk-headless -qq > /dev/null\n",
        "!pip install pyspark"
      ]
    },
    {
      "cell_type": "code",
      "source": [
        "import pyspark\n",
        "print(pyspark.__version__)"
      ],
      "metadata": {
        "colab": {
          "base_uri": "https://localhost:8080/"
        },
        "id": "yTB05n4KpFvp",
        "outputId": "f27fe516-099d-4cd9-8f7b-82428bdbf901"
      },
      "execution_count": null,
      "outputs": [
        {
          "output_type": "stream",
          "name": "stdout",
          "text": [
            "3.5.3\n"
          ]
        }
      ]
    },
    {
      "cell_type": "code",
      "source": [
        "from google.colab import files\n",
        "uploaded = files.upload()"
      ],
      "metadata": {
        "colab": {
          "base_uri": "https://localhost:8080/",
          "height": 73
        },
        "id": "bQ5NbkPnpH6K",
        "outputId": "a5ef9e11-0912-4b4f-c51e-129c8f50d0b7"
      },
      "execution_count": null,
      "outputs": [
        {
          "output_type": "display_data",
          "data": {
            "text/plain": [
              "<IPython.core.display.HTML object>"
            ],
            "text/html": [
              "\n",
              "     <input type=\"file\" id=\"files-eb464763-d2eb-4dbf-995f-8faf672b78e6\" name=\"files[]\" multiple disabled\n",
              "        style=\"border:none\" />\n",
              "     <output id=\"result-eb464763-d2eb-4dbf-995f-8faf672b78e6\">\n",
              "      Upload widget is only available when the cell has been executed in the\n",
              "      current browser session. Please rerun this cell to enable.\n",
              "      </output>\n",
              "      <script>// Copyright 2017 Google LLC\n",
              "//\n",
              "// Licensed under the Apache License, Version 2.0 (the \"License\");\n",
              "// you may not use this file except in compliance with the License.\n",
              "// You may obtain a copy of the License at\n",
              "//\n",
              "//      http://www.apache.org/licenses/LICENSE-2.0\n",
              "//\n",
              "// Unless required by applicable law or agreed to in writing, software\n",
              "// distributed under the License is distributed on an \"AS IS\" BASIS,\n",
              "// WITHOUT WARRANTIES OR CONDITIONS OF ANY KIND, either express or implied.\n",
              "// See the License for the specific language governing permissions and\n",
              "// limitations under the License.\n",
              "\n",
              "/**\n",
              " * @fileoverview Helpers for google.colab Python module.\n",
              " */\n",
              "(function(scope) {\n",
              "function span(text, styleAttributes = {}) {\n",
              "  const element = document.createElement('span');\n",
              "  element.textContent = text;\n",
              "  for (const key of Object.keys(styleAttributes)) {\n",
              "    element.style[key] = styleAttributes[key];\n",
              "  }\n",
              "  return element;\n",
              "}\n",
              "\n",
              "// Max number of bytes which will be uploaded at a time.\n",
              "const MAX_PAYLOAD_SIZE = 100 * 1024;\n",
              "\n",
              "function _uploadFiles(inputId, outputId) {\n",
              "  const steps = uploadFilesStep(inputId, outputId);\n",
              "  const outputElement = document.getElementById(outputId);\n",
              "  // Cache steps on the outputElement to make it available for the next call\n",
              "  // to uploadFilesContinue from Python.\n",
              "  outputElement.steps = steps;\n",
              "\n",
              "  return _uploadFilesContinue(outputId);\n",
              "}\n",
              "\n",
              "// This is roughly an async generator (not supported in the browser yet),\n",
              "// where there are multiple asynchronous steps and the Python side is going\n",
              "// to poll for completion of each step.\n",
              "// This uses a Promise to block the python side on completion of each step,\n",
              "// then passes the result of the previous step as the input to the next step.\n",
              "function _uploadFilesContinue(outputId) {\n",
              "  const outputElement = document.getElementById(outputId);\n",
              "  const steps = outputElement.steps;\n",
              "\n",
              "  const next = steps.next(outputElement.lastPromiseValue);\n",
              "  return Promise.resolve(next.value.promise).then((value) => {\n",
              "    // Cache the last promise value to make it available to the next\n",
              "    // step of the generator.\n",
              "    outputElement.lastPromiseValue = value;\n",
              "    return next.value.response;\n",
              "  });\n",
              "}\n",
              "\n",
              "/**\n",
              " * Generator function which is called between each async step of the upload\n",
              " * process.\n",
              " * @param {string} inputId Element ID of the input file picker element.\n",
              " * @param {string} outputId Element ID of the output display.\n",
              " * @return {!Iterable<!Object>} Iterable of next steps.\n",
              " */\n",
              "function* uploadFilesStep(inputId, outputId) {\n",
              "  const inputElement = document.getElementById(inputId);\n",
              "  inputElement.disabled = false;\n",
              "\n",
              "  const outputElement = document.getElementById(outputId);\n",
              "  outputElement.innerHTML = '';\n",
              "\n",
              "  const pickedPromise = new Promise((resolve) => {\n",
              "    inputElement.addEventListener('change', (e) => {\n",
              "      resolve(e.target.files);\n",
              "    });\n",
              "  });\n",
              "\n",
              "  const cancel = document.createElement('button');\n",
              "  inputElement.parentElement.appendChild(cancel);\n",
              "  cancel.textContent = 'Cancel upload';\n",
              "  const cancelPromise = new Promise((resolve) => {\n",
              "    cancel.onclick = () => {\n",
              "      resolve(null);\n",
              "    };\n",
              "  });\n",
              "\n",
              "  // Wait for the user to pick the files.\n",
              "  const files = yield {\n",
              "    promise: Promise.race([pickedPromise, cancelPromise]),\n",
              "    response: {\n",
              "      action: 'starting',\n",
              "    }\n",
              "  };\n",
              "\n",
              "  cancel.remove();\n",
              "\n",
              "  // Disable the input element since further picks are not allowed.\n",
              "  inputElement.disabled = true;\n",
              "\n",
              "  if (!files) {\n",
              "    return {\n",
              "      response: {\n",
              "        action: 'complete',\n",
              "      }\n",
              "    };\n",
              "  }\n",
              "\n",
              "  for (const file of files) {\n",
              "    const li = document.createElement('li');\n",
              "    li.append(span(file.name, {fontWeight: 'bold'}));\n",
              "    li.append(span(\n",
              "        `(${file.type || 'n/a'}) - ${file.size} bytes, ` +\n",
              "        `last modified: ${\n",
              "            file.lastModifiedDate ? file.lastModifiedDate.toLocaleDateString() :\n",
              "                                    'n/a'} - `));\n",
              "    const percent = span('0% done');\n",
              "    li.appendChild(percent);\n",
              "\n",
              "    outputElement.appendChild(li);\n",
              "\n",
              "    const fileDataPromise = new Promise((resolve) => {\n",
              "      const reader = new FileReader();\n",
              "      reader.onload = (e) => {\n",
              "        resolve(e.target.result);\n",
              "      };\n",
              "      reader.readAsArrayBuffer(file);\n",
              "    });\n",
              "    // Wait for the data to be ready.\n",
              "    let fileData = yield {\n",
              "      promise: fileDataPromise,\n",
              "      response: {\n",
              "        action: 'continue',\n",
              "      }\n",
              "    };\n",
              "\n",
              "    // Use a chunked sending to avoid message size limits. See b/62115660.\n",
              "    let position = 0;\n",
              "    do {\n",
              "      const length = Math.min(fileData.byteLength - position, MAX_PAYLOAD_SIZE);\n",
              "      const chunk = new Uint8Array(fileData, position, length);\n",
              "      position += length;\n",
              "\n",
              "      const base64 = btoa(String.fromCharCode.apply(null, chunk));\n",
              "      yield {\n",
              "        response: {\n",
              "          action: 'append',\n",
              "          file: file.name,\n",
              "          data: base64,\n",
              "        },\n",
              "      };\n",
              "\n",
              "      let percentDone = fileData.byteLength === 0 ?\n",
              "          100 :\n",
              "          Math.round((position / fileData.byteLength) * 100);\n",
              "      percent.textContent = `${percentDone}% done`;\n",
              "\n",
              "    } while (position < fileData.byteLength);\n",
              "  }\n",
              "\n",
              "  // All done.\n",
              "  yield {\n",
              "    response: {\n",
              "      action: 'complete',\n",
              "    }\n",
              "  };\n",
              "}\n",
              "\n",
              "scope.google = scope.google || {};\n",
              "scope.google.colab = scope.google.colab || {};\n",
              "scope.google.colab._files = {\n",
              "  _uploadFiles,\n",
              "  _uploadFilesContinue,\n",
              "};\n",
              "})(self);\n",
              "</script> "
            ]
          },
          "metadata": {}
        },
        {
          "output_type": "stream",
          "name": "stdout",
          "text": [
            "Saving vgsales.csv to vgsales.csv\n"
          ]
        }
      ]
    },
    {
      "cell_type": "code",
      "source": [
        "for filename in uploaded.keys():\n",
        "    print(f\"Fichier téléchargé : {filename}\")\n"
      ],
      "metadata": {
        "colab": {
          "base_uri": "https://localhost:8080/"
        },
        "id": "aHKsIWKXpUNX",
        "outputId": "ba109939-b82e-471a-ba08-fcc90c1fc1f7"
      },
      "execution_count": null,
      "outputs": [
        {
          "output_type": "stream",
          "name": "stdout",
          "text": [
            "Fichier téléchargé : vgsales.csv\n"
          ]
        }
      ]
    },
    {
      "cell_type": "code",
      "source": [
        "import os\n",
        "print(os.listdir(\"/content\"))\n"
      ],
      "metadata": {
        "colab": {
          "base_uri": "https://localhost:8080/"
        },
        "id": "2-c173M6paHA",
        "outputId": "8b903013-202c-43e1-f3c7-b06fb5c29d98"
      },
      "execution_count": null,
      "outputs": [
        {
          "output_type": "stream",
          "name": "stdout",
          "text": [
            "['.config', 'vgsales.csv', 'sample_data']\n"
          ]
        }
      ]
    },
    {
      "cell_type": "code",
      "source": [
        "csv_file = \"/content/vgsales.csv\"\n",
        "# Spécifier le chemin du fichier CSV"
      ],
      "metadata": {
        "id": "khc4NJqbpfK0"
      },
      "execution_count": null,
      "outputs": []
    },
    {
      "cell_type": "code",
      "source": [
        "from pyspark.sql import SparkSession\n",
        "\n",
        "# Initialiser SparkSession\n",
        "spark = SparkSession.builder.appName(\"analyse de données\").getOrCreate()\n",
        "\n",
        "\n",
        "\n",
        "# Lire le fichier CSV\n",
        "df = spark.read.csv(csv_file, header=True, inferSchema=True)\n",
        "\n",
        "# Afficher les premières lignes\n",
        "df.show(5)\n",
        "\n",
        "# Afficher le schéma\n",
        "df.printSchema()"
      ],
      "metadata": {
        "colab": {
          "base_uri": "https://localhost:8080/"
        },
        "id": "hViDbKFbpls-",
        "outputId": "df7a8e7a-16b9-4518-a849-febeafdbda49"
      },
      "execution_count": null,
      "outputs": [
        {
          "output_type": "stream",
          "name": "stdout",
          "text": [
            "+----+--------------------+--------+----+------------+---------+--------+--------+--------+-----------+------------+\n",
            "|Rank|                Name|Platform|Year|       Genre|Publisher|NA_Sales|EU_Sales|JP_Sales|Other_Sales|Global_Sales|\n",
            "+----+--------------------+--------+----+------------+---------+--------+--------+--------+-----------+------------+\n",
            "|   1|          Wii Sports|     Wii|2006|      Sports| Nintendo|   41.49|   29.02|    3.77|       8.46|       82.74|\n",
            "|   2|   Super Mario Bros.|     NES|1985|    Platform| Nintendo|   29.08|    3.58|    6.81|       0.77|       40.24|\n",
            "|   3|      Mario Kart Wii|     Wii|2008|      Racing| Nintendo|   15.85|   12.88|    3.79|       3.31|       35.82|\n",
            "|   4|   Wii Sports Resort|     Wii|2009|      Sports| Nintendo|   15.75|   11.01|    3.28|       2.96|        33.0|\n",
            "|   5|Pokemon Red/Pokem...|      GB|1996|Role-Playing| Nintendo|   11.27|    8.89|   10.22|        1.0|       31.37|\n",
            "+----+--------------------+--------+----+------------+---------+--------+--------+--------+-----------+------------+\n",
            "only showing top 5 rows\n",
            "\n",
            "root\n",
            " |-- Rank: integer (nullable = true)\n",
            " |-- Name: string (nullable = true)\n",
            " |-- Platform: string (nullable = true)\n",
            " |-- Year: string (nullable = true)\n",
            " |-- Genre: string (nullable = true)\n",
            " |-- Publisher: string (nullable = true)\n",
            " |-- NA_Sales: double (nullable = true)\n",
            " |-- EU_Sales: double (nullable = true)\n",
            " |-- JP_Sales: double (nullable = true)\n",
            " |-- Other_Sales: double (nullable = true)\n",
            " |-- Global_Sales: double (nullable = true)\n",
            "\n"
          ]
        }
      ]
    },
    {
      "cell_type": "code",
      "source": [
        "print(f\"Nombre de lignes : {df.count()}\")\n"
      ],
      "metadata": {
        "colab": {
          "base_uri": "https://localhost:8080/"
        },
        "id": "8tnNTBbmqHbE",
        "outputId": "810b83b3-0797-49db-cd92-39f0242a6a58"
      },
      "execution_count": null,
      "outputs": [
        {
          "output_type": "stream",
          "name": "stdout",
          "text": [
            "Nombre de lignes : 16598\n"
          ]
        }
      ]
    },
    {
      "cell_type": "code",
      "source": [
        "df.describe().show()\n"
      ],
      "metadata": {
        "colab": {
          "base_uri": "https://localhost:8080/"
        },
        "id": "eouoV2EnppB_",
        "outputId": "25ea021a-dbe1-4d8a-ad86-4dbc526a750b"
      },
      "execution_count": null,
      "outputs": [
        {
          "output_type": "stream",
          "name": "stdout",
          "text": [
            "+-------+-----------------+--------------------+--------+------------------+--------+---------------+-------------------+------------------+-------------------+--------------------+------------------+\n",
            "|summary|             Rank|                Name|Platform|              Year|   Genre|      Publisher|           NA_Sales|          EU_Sales|           JP_Sales|         Other_Sales|      Global_Sales|\n",
            "+-------+-----------------+--------------------+--------+------------------+--------+---------------+-------------------+------------------+-------------------+--------------------+------------------+\n",
            "|  count|            16598|               16598|   16598|             16598|   16598|          16598|              16598|             16598|              16598|               16598|             16598|\n",
            "|   mean|8300.605253645017|              1942.0|  2600.0|2006.4064433147546|    NULL|           NULL|0.26466742981084057|0.1466520062658483|0.07778166044101108|0.048063019640913515|  0.53744065550074|\n",
            "| stddev|  4791.8539328964|                NULL|     0.0| 5.828981114713253|    NULL|           NULL| 0.8166830292988798|0.5053512312869136| 0.3092906480822022| 0.18858840291271395|1.5550279355699066|\n",
            "|    min|                1|         '98 Koshien|    2600|              1980|  Action|10TACLE Studios|                0.0|               0.0|                0.0|                 0.0|              0.01|\n",
            "|    max|            16600|¡Shin Chan Flipa ...|    XOne|               N/A|Strategy|   responDESIGN|              41.49|             29.02|              10.22|               10.57|             82.74|\n",
            "+-------+-----------------+--------------------+--------+------------------+--------+---------------+-------------------+------------------+-------------------+--------------------+------------------+\n",
            "\n"
          ]
        }
      ]
    },
    {
      "cell_type": "code",
      "source": [
        "df_filtered = df.filter(df['Global_Sales'] > 50)\n",
        "\n",
        "df_filtered.show()"
      ],
      "metadata": {
        "colab": {
          "base_uri": "https://localhost:8080/"
        },
        "id": "iYlncQfyqh_f",
        "outputId": "57712bac-b994-463e-c607-b202604924f0"
      },
      "execution_count": null,
      "outputs": [
        {
          "output_type": "stream",
          "name": "stdout",
          "text": [
            "+----+----------+--------+----+------+---------+--------+--------+--------+-----------+------------+\n",
            "|Rank|      Name|Platform|Year| Genre|Publisher|NA_Sales|EU_Sales|JP_Sales|Other_Sales|Global_Sales|\n",
            "+----+----------+--------+----+------+---------+--------+--------+--------+-----------+------------+\n",
            "|   1|Wii Sports|     Wii|2006|Sports| Nintendo|   41.49|   29.02|    3.77|       8.46|       82.74|\n",
            "+----+----------+--------+----+------+---------+--------+--------+--------+-----------+------------+\n",
            "\n"
          ]
        }
      ]
    },
    {
      "cell_type": "code",
      "source": [
        "from pyspark.sql import functions as F\n",
        "\n",
        "# Filtrer les colonnes où Global_Sales > 30\n",
        "df_filtered = df.filter(F.col(\"Global_Sales\") > 30).select(\"Name\", \"Year\", \"Genre\",\"Global_Sales\")\n",
        "\n",
        "# Afficher les résultats\n",
        "df_filtered.show(5)\n"
      ],
      "metadata": {
        "colab": {
          "base_uri": "https://localhost:8080/"
        },
        "id": "kgi2-c6nrmQi",
        "outputId": "e2273224-ec06-491b-f829-1c0be7147261"
      },
      "execution_count": null,
      "outputs": [
        {
          "output_type": "stream",
          "name": "stdout",
          "text": [
            "+--------------------+----+------------+------------+\n",
            "|                Name|Year|       Genre|Global_Sales|\n",
            "+--------------------+----+------------+------------+\n",
            "|          Wii Sports|2006|      Sports|       82.74|\n",
            "|   Super Mario Bros.|1985|    Platform|       40.24|\n",
            "|      Mario Kart Wii|2008|      Racing|       35.82|\n",
            "|   Wii Sports Resort|2009|      Sports|        33.0|\n",
            "|Pokemon Red/Pokem...|1996|Role-Playing|       31.37|\n",
            "+--------------------+----+------------+------------+\n",
            "only showing top 5 rows\n",
            "\n"
          ]
        }
      ]
    },
    {
      "cell_type": "code",
      "source": [
        "from pyspark.sql import functions as F\n",
        "from pyspark.sql.window import Window"
      ],
      "metadata": {
        "id": "CU1ac0RevnWH"
      },
      "execution_count": null,
      "outputs": []
    },
    {
      "cell_type": "code",
      "source": [
        "# Filtrer les années valides et les ventes globales non nulles\n",
        "df_filtered = df.filter(F.col(\"Year\").cast(\"int\").isNotNull() & F.col(\"Global_Sales\").isNotNull())\n",
        "\n",
        "# Définir une fenêtre partitionnée par année et triée par les ventes globales de manière décroissante\n",
        "window_spec = Window.partitionBy(\"Year\").orderBy(F.col(\"Global_Sales\").desc())\n",
        "\n",
        "# Ajouter une colonne \"rank\" qui sera 1 pour le jeu avec les ventes maximales pour chaque année\n",
        "df_with_rank = df_filtered.withColumn(\"rank\", F.row_number().over(window_spec))\n",
        "\n",
        "# Filtrer pour ne garder que le jeu avec le rang 1 (le plus populaire) pour chaque année\n",
        "most_popular_games = df_with_rank.filter(F.col(\"rank\") == 1).drop(\"rank\")\n",
        "\n",
        "# Afficher les résultats\n",
        "most_popular_games.select(\"Year\", \"Name\", \"Global_Sales\").orderBy(\"Year\").show(40)\n",
        "\n",
        "Max_Global_sales=most_popular_games.select(\"Name\",\"Global_Sales\").show()\n",
        "\n"
      ],
      "metadata": {
        "colab": {
          "base_uri": "https://localhost:8080/"
        },
        "id": "IrlF4DA2vDO6",
        "outputId": "8dacf4e2-a552-4948-d1d1-51fc5bc2e56c"
      },
      "execution_count": null,
      "outputs": [
        {
          "output_type": "stream",
          "name": "stdout",
          "text": [
            "+----+--------------------+------------+\n",
            "|Year|                Name|Global_Sales|\n",
            "+----+--------------------+------------+\n",
            "|1980|           Asteroids|        4.31|\n",
            "|1981|            Pitfall!|         4.5|\n",
            "|1982|             Pac-Man|        7.81|\n",
            "|1983|            Baseball|         3.2|\n",
            "|1984|           Duck Hunt|       28.31|\n",
            "|1985|   Super Mario Bros.|       40.24|\n",
            "|1986| The Legend of Zelda|        6.51|\n",
            "|1987|Zelda II: The Adv...|        4.38|\n",
            "|1988| Super Mario Bros. 3|       17.28|\n",
            "|1989|              Tetris|       30.26|\n",
            "|1990|   Super Mario World|       20.61|\n",
            "|1991|The Legend of Zel...|        4.61|\n",
            "|1992|Super Mario Land ...|       11.18|\n",
            "|1993|Super Mario All-S...|       10.55|\n",
            "|1994| Donkey Kong Country|         9.3|\n",
            "|1995|Donkey Kong Count...|        5.15|\n",
            "|1996|Pokemon Red/Pokem...|       31.37|\n",
            "|1997|        Gran Turismo|       10.95|\n",
            "|1998|Pokémon Yellow: S...|       14.64|\n",
            "|1999|Pokemon Gold/Poke...|        23.1|\n",
            "|2000|Pokémon Crystal V...|        6.39|\n",
            "|2001|Gran Turismo 3: A...|       14.98|\n",
            "|2002|Grand Theft Auto:...|       16.15|\n",
            "|2003|Need for Speed Un...|         7.2|\n",
            "|2004|Grand Theft Auto:...|       20.81|\n",
            "|2005|          Nintendogs|       24.76|\n",
            "|2006|          Wii Sports|       82.74|\n",
            "|2007|             Wii Fit|       22.72|\n",
            "|2008|      Mario Kart Wii|       35.82|\n",
            "|2009|   Wii Sports Resort|        33.0|\n",
            "|2010|  Kinect Adventures!|       21.82|\n",
            "|2011|Call of Duty: Mod...|       14.76|\n",
            "|2012|Call of Duty: Bla...|       14.03|\n",
            "|2013|  Grand Theft Auto V|        21.4|\n",
            "|2014|  Grand Theft Auto V|       11.98|\n",
            "|2015|Call of Duty: Bla...|       14.24|\n",
            "|2016|             FIFA 17|        4.77|\n",
            "|2017|Phantasy Star Onl...|        0.03|\n",
            "|2020|Imagine: Makeup A...|        0.29|\n",
            "+----+--------------------+------------+\n",
            "\n",
            "+--------------------+------------+\n",
            "|                Name|Global_Sales|\n",
            "+--------------------+------------+\n",
            "|           Asteroids|        4.31|\n",
            "|            Pitfall!|         4.5|\n",
            "|             Pac-Man|        7.81|\n",
            "|            Baseball|         3.2|\n",
            "|           Duck Hunt|       28.31|\n",
            "|   Super Mario Bros.|       40.24|\n",
            "| The Legend of Zelda|        6.51|\n",
            "|Zelda II: The Adv...|        4.38|\n",
            "| Super Mario Bros. 3|       17.28|\n",
            "|              Tetris|       30.26|\n",
            "|   Super Mario World|       20.61|\n",
            "|The Legend of Zel...|        4.61|\n",
            "|Super Mario Land ...|       11.18|\n",
            "|Super Mario All-S...|       10.55|\n",
            "| Donkey Kong Country|         9.3|\n",
            "|Donkey Kong Count...|        5.15|\n",
            "|Pokemon Red/Pokem...|       31.37|\n",
            "|        Gran Turismo|       10.95|\n",
            "|Pokémon Yellow: S...|       14.64|\n",
            "|Pokemon Gold/Poke...|        23.1|\n",
            "+--------------------+------------+\n",
            "only showing top 20 rows\n",
            "\n"
          ]
        }
      ]
    },
    {
      "cell_type": "code",
      "source": [
        "# Filtrer les années valides et les ventes globales non nulles\n",
        "df_filtered = df.filter(F.col(\"Genre\").isNotNull() & F.col(\"Global_Sales\").isNotNull())\n",
        "\n",
        "# Définir une fenêtre partitionnée par genre et triée par les ventes globales de manière décroissante\n",
        "window_spec = Window.partitionBy(\"Genre\").orderBy(F.col(\"Global_Sales\").desc())\n",
        "\n",
        "# Ajouter une colonne \"rank\" qui sera 1 pour le jeu avec les ventes maximales pour chaque année\n",
        "df_with_rank = df_filtered.withColumn(\"rank\", F.row_number().over(window_spec))\n",
        "\n",
        "# Filtrer pour ne garder que le jeu avec le rang 1 (le plus populaire) pour chaque année\n",
        "most_popular_games = df_with_rank.filter(F.col(\"rank\") == 1).drop(\"rank\")\n",
        "\n",
        "# Afficher les résultats\n",
        "most_popular_games.select(\"Genre\", \"Name\", \"Global_Sales\",\"year\").orderBy(\"Genre\").show()\n",
        "\n",
        "#dans ce code on a choisie\n",
        "\n"
      ],
      "metadata": {
        "colab": {
          "base_uri": "https://localhost:8080/"
        },
        "id": "ZFw3hunLx8cY",
        "outputId": "3ffc9352-f2cf-4fb2-c1ee-ca437b2a4fce"
      },
      "execution_count": null,
      "outputs": [
        {
          "output_type": "stream",
          "name": "stdout",
          "text": [
            "+------------+--------------------+------------+----+\n",
            "|       Genre|                Name|Global_Sales|year|\n",
            "+------------+--------------------+------------+----+\n",
            "|      Action|  Grand Theft Auto V|        21.4|2013|\n",
            "|   Adventure|Super Mario Land ...|       11.18|1992|\n",
            "|    Fighting|Super Smash Bros....|       13.04|2008|\n",
            "|        Misc|            Wii Play|       29.02|2006|\n",
            "|    Platform|   Super Mario Bros.|       40.24|1985|\n",
            "|      Puzzle|              Tetris|       30.26|1989|\n",
            "|      Racing|      Mario Kart Wii|       35.82|2008|\n",
            "|Role-Playing|Pokemon Red/Pokem...|       31.37|1996|\n",
            "|     Shooter|           Duck Hunt|       28.31|1984|\n",
            "|  Simulation|          Nintendogs|       24.76|2005|\n",
            "|      Sports|          Wii Sports|       82.74|2006|\n",
            "|    Strategy|     Pokemon Stadium|        5.45|1999|\n",
            "+------------+--------------------+------------+----+\n",
            "\n"
          ]
        }
      ]
    },
    {
      "cell_type": "code",
      "source": [
        "from pyspark.sql import functions as F\n",
        "\n",
        "# Filtrer les données pour l'année 1990\n",
        "df_1990 = df.filter(F.col(\"Year\") == 1990)\n",
        "\n",
        "# Regrouper les données par Genre et sommer les ventes dans chaque région\n",
        "df_genre_sales_1990 = df_1990.groupBy(\"Genre\").agg(\n",
        "    F.sum(\"NA_Sales\").alias(\"NA_Sales\"),\n",
        "    F.sum(\"EU_Sales\").alias(\"EU_Sales\"),\n",
        "    F.sum(\"JP_Sales\").alias(\"JP_Sales\"),\n",
        "    F.sum(\"Other_Sales\").alias(\"Other_Sales\"),\n",
        "    F.sum(\"Global_Sales\").alias(\"Global_Sales\")  # Somme des ventes globales\n",
        ")\n",
        "\n",
        "# Trier par les ventes globales\n",
        "df_genre_sales_1990_sorted = df_genre_sales_1990.orderBy(F.col(\"Global_Sales\").desc())\n",
        "\n",
        "# Collecter les résultats sous forme de liste\n",
        "genre_sales_list = df_genre_sales_1990_sorted.collect()\n",
        "\n",
        "# Afficher une partie des résultats\n",
        "for row in genre_sales_list[:5]:\n",
        "    print(row)\n"
      ],
      "metadata": {
        "colab": {
          "base_uri": "https://localhost:8080/"
        },
        "id": "fjM3sxNg5KZQ",
        "outputId": "b04a5a6c-9adf-4955-d04e-1f987a07b43c"
      },
      "execution_count": null,
      "outputs": [
        {
          "output_type": "stream",
          "name": "stdout",
          "text": [
            "Row(Genre='Platform', NA_Sales=14.139999999999999, EU_Sales=3.99, JP_Sales=4.28, Other_Sales=0.5700000000000001, Global_Sales=22.97)\n",
            "Row(Genre='Action', NA_Sales=4.2700000000000005, EU_Sales=0.9700000000000001, JP_Sales=1.01, Other_Sales=0.14, Global_Sales=6.390000000000001)\n",
            "Row(Genre='Racing', NA_Sales=3.1, EU_Sales=1.2, JP_Sales=1.48, Other_Sales=0.47000000000000003, Global_Sales=6.26)\n",
            "Row(Genre='Puzzle', NA_Sales=3.13, EU_Sales=0.8, JP_Sales=1.93, Other_Sales=0.13, Global_Sales=6.0)\n",
            "Row(Genre='Role-Playing', NA_Sales=0.08, EU_Sales=0.0, JP_Sales=4.42, Other_Sales=0.02, Global_Sales=4.52)\n"
          ]
        }
      ]
    },
    {
      "cell_type": "code",
      "source": [
        "import matplotlib.pyplot as plt\n",
        "\n",
        "# Extraire les genres et les ventes globales pour les graphiques\n",
        "genres = [row['Genre'] for row in genre_sales_list]\n",
        "global_sales = [row['Global_Sales'] for row in genre_sales_list]\n",
        "\n",
        "# Créer un diagramme à barres\n",
        "plt.figure(figsize=(12, 6))\n",
        "plt.bar(genres, global_sales, color='skyblue')\n",
        "\n",
        "# Ajouter un titre et des labels\n",
        "plt.title('Genres de jeux vidéo les plus populaires en 1990 (par ventes globales)', fontsize=14)\n",
        "plt.xlabel('Genre', fontsize=12)\n",
        "plt.ylabel('Ventes Globales en millions', fontsize=12)\n",
        "\n",
        "# Tourner les labels de l'axe X pour une meilleure lisibilité\n",
        "plt.xticks(rotation=45, ha='right')\n",
        "\n",
        "# Afficher le graphique\n",
        "plt.tight_layout()\n",
        "plt.show()\n"
      ],
      "metadata": {
        "colab": {
          "base_uri": "https://localhost:8080/",
          "height": 337
        },
        "id": "jFgCMJ775Qn3",
        "outputId": "ad17b2bb-e500-4c1e-c27e-2c12f03211c9"
      },
      "execution_count": null,
      "outputs": [
        {
          "output_type": "display_data",
          "data": {
            "text/plain": [
              "<Figure size 1200x600 with 1 Axes>"
            ],
            "image/png": "[encoded data removed]"
          },
          "metadata": {}
        }
      ]
    },
    {
      "cell_type": "code",
      "source": [
        "from pyspark.sql import functions as F\n",
        "\n",
        "# Filtrer les données pour l'année 2010\n",
        "df_2010 = df.filter(F.col(\"Year\") == 2010)\n",
        "\n",
        "# Regrouper les données par Genre et sommer les ventes dans chaque région\n",
        "df_genre_sales_2010 = df_2010.groupBy(\"Genre\").agg(\n",
        "    F.sum(\"NA_Sales\").alias(\"NA_Sales\"),\n",
        "    F.sum(\"EU_Sales\").alias(\"EU_Sales\"),\n",
        "    F.sum(\"JP_Sales\").alias(\"JP_Sales\"),\n",
        "    F.sum(\"Other_Sales\").alias(\"Other_Sales\"),\n",
        "    F.sum(\"Global_Sales\").alias(\"Global_Sales\")  # Somme des ventes globales\n",
        ")\n",
        "\n",
        "# Trier par les ventes globales\n",
        "df_genre_sales_2010_sorted = df_genre_sales_2010.orderBy(F.col(\"Global_Sales\").desc())\n",
        "\n",
        "# Collecter les résultats sous forme de liste\n",
        "genre_sales_list_2010 = df_genre_sales_2010_sorted.collect()\n",
        "\n",
        "# Afficher une partie des résultats\n",
        "for row in genre_sales_list_2010[:5]:\n",
        "    print(row)\n"
      ],
      "metadata": {
        "colab": {
          "base_uri": "https://localhost:8080/"
        },
        "id": "IqSn_JKi6J6m",
        "outputId": "00692871-de7f-4733-8921-79d005c94021"
      },
      "execution_count": null,
      "outputs": [
        {
          "output_type": "stream",
          "name": "stdout",
          "text": [
            "Row(Genre='Action', NA_Sales=60.32000000000002, EU_Sales=35.75000000000005, JP_Sales=8.579999999999997, Other_Sales=12.849999999999962, Global_Sales=117.63999999999997)\n",
            "Row(Genre='Misc', NA_Sales=54.970000000000006, EU_Sales=27.110000000000024, JP_Sales=6.689999999999994, Other_Sales=8.11999999999998, Global_Sales=96.86000000000001)\n",
            "Row(Genre='Sports', NA_Sales=48.56000000000002, EU_Sales=29.05000000000001, JP_Sales=4.419999999999999, Other_Sales=10.489999999999972, Global_Sales=92.53)\n",
            "Row(Genre='Shooter', NA_Sales=43.1, EU_Sales=23.900000000000002, JP_Sales=2.1200000000000006, Other_Sales=8.319999999999991, Global_Sales=77.40999999999994)\n",
            "Row(Genre='Role-Playing', NA_Sales=28.54999999999999, EU_Sales=13.69999999999999, JP_Sales=23.669999999999995, Other_Sales=4.639999999999993, Global_Sales=70.51999999999997)\n"
          ]
        }
      ]
    },
    {
      "cell_type": "code",
      "source": [
        "import matplotlib.pyplot as plt\n",
        "\n",
        "# Extraire les genres et les ventes globales pour les graphiques\n",
        "genres_2020 = [row['Genre'] for row in genre_sales_list_2010]\n",
        "global_sales_2020 = [row['Global_Sales'] for row in genre_sales_list_2010]\n",
        "\n",
        "# Créer un diagramme à barres\n",
        "plt.figure(figsize=(12, 6))\n",
        "plt.bar(genres_2020, global_sales_2020, color='lightgreen')\n",
        "\n",
        "# Ajouter un titre et des labels\n",
        "plt.title('Genres de jeux vidéo les plus populaires en 2020 (par ventes globales)', fontsize=14)\n",
        "plt.xlabel('Genre', fontsize=12)\n",
        "plt.ylabel('Ventes Globales en millions', fontsize=12)\n",
        "\n",
        "# Tourner les labels de l'axe X pour une meilleure lisibilité\n",
        "plt.xticks(rotation=45, ha='right')\n",
        "\n",
        "# Afficher le graphique\n",
        "plt.tight_layout()\n",
        "plt.show()\n"
      ],
      "metadata": {
        "colab": {
          "base_uri": "https://localhost:8080/",
          "height": 337
        },
        "id": "ReZzRmAF5-xw",
        "outputId": "5276ff3b-cefe-4082-85b8-6f2552955043"
      },
      "execution_count": null,
      "outputs": [
        {
          "output_type": "display_data",
          "data": {
            "text/plain": [
              "<Figure size 1200x600 with 1 Axes>"
            ],
            "image/png": "[encoded data removed]"
          },
          "metadata": {}
        }
      ]
    }
  ]
}